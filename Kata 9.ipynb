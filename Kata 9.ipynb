{
 "cells": [
  {
   "cell_type": "markdown",
   "metadata": {},
   "source": [
    "# Módulo 9 - Kata 9"
   ]
  },
  {
   "cell_type": "code",
   "execution_count": null,
   "metadata": {},
   "outputs": [],
   "source": [
    "def informe_combustible(Tan1,Tan2,Tan3):\n",
    "    return f' Reporte de estado de los tanques de la nave:\\n Promedio de los Tanques: ' + str(GetPromedio([Tan1,Tan2,Tan3])) + '\\n Tanque 1: ' + str(Tan1) + '\\n Tanque 2: ' + str(Tan2) + '\\n Tanque 3: ' + str(Tan3)\n",
    "\n",
    "def GetPromedio(Valores):\n",
    "    #Obtener valores por separado\n",
    "    Total = sum(Valores)\n",
    "    NoObjetos = len(Valores)\n",
    "    #Retornamos la información del reporte, en este caso realimos las opereaciones antes de retornar el dato pero también se puede:\n",
    "    # return Total/NoObjetos\n",
    "    return sum(Valores)/len(Valores)\n",
    "\n",
    "print(informe_combustible(15.2,3.5,4))"
   ]
  },
  {
   "cell_type": "code",
   "execution_count": null,
   "metadata": {},
   "outputs": [],
   "source": [
    "#Ejercicio 2\n",
    "def Reporte_Detallado(Preelanzamiento,TiempoDVuelo,Destino,TanqueExterno,TanqueInterno):\n",
    "    return f\"\"\"                Reporte de la misión \n",
    "                Destino: {Destino} \n",
    "                Preelanzamiento esta previsto para las: {Preelanzamiento}\n",
    "                Tiempo de vuelo estimado es: {TiempoDVuelo}\n",
    "                Combustible: {TanqueExterno + TanqueInterno}\"\"\"\n",
    "\n",
    "print(Reporte_Detallado(14, 51, \"Moon\", 200000, 300000))\n"
   ]
  },
  {
   "cell_type": "code",
   "execution_count": 40,
   "metadata": {},
   "outputs": [
    {
     "name": "stdout",
     "output_type": "stream",
     "text": [
      "                Reporte de la misión \n",
      "                Destino: Moon \n",
      "                Tiempo de vuelo estimado es: 74\n",
      "                Combustible 500000Tanque1 tiene disponibles: 300000 lts\n",
      "Tanque2 tiene disponibles: 200000 lts\n",
      "\n"
     ]
    }
   ],
   "source": [
    "def Reporte_Detallado2(Destino,*Tiempo,**Tanques):\n",
    "        reporte = f\"\"\"                Reporte de la misión \n",
    "                Destino: {Destino} \n",
    "                Tiempo de vuelo estimado es: {sum(Tiempo)}\n",
    "                Combustible {sum(Tanques.values())}\"\"\"\n",
    "        for tanque, lts in Tanques.items():\n",
    "            reporte += f\"{tanque} tiene disponibles: {lts} lts\\n\"\n",
    "        return reporte \n",
    "\n",
    "print(Reporte_Detallado2(\"Moon\", 8, 11, 55, Tanque1=300000, Tanque2=200000))"
   ]
  }
 ],
 "metadata": {
  "interpreter": {
   "hash": "f9b663c64d01b85df3ce1f4da267e5ac58a47d1d1a962220a4571511be4b3802"
  },
  "kernelspec": {
   "display_name": "Python 3.10.2 64-bit",
   "language": "python",
   "name": "python3"
  },
  "language_info": {
   "codemirror_mode": {
    "name": "ipython",
    "version": 3
   },
   "file_extension": ".py",
   "mimetype": "text/x-python",
   "name": "python",
   "nbconvert_exporter": "python",
   "pygments_lexer": "ipython3",
   "version": "3.10.2"
  },
  "orig_nbformat": 4
 },
 "nbformat": 4,
 "nbformat_minor": 2
}
