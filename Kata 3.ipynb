{
 "cells": [
  {
   "cell_type": "markdown",
   "metadata": {},
   "source": [
    "# Escribir Declaraciones If, Else y Elif"
   ]
  },
  {
   "cell_type": "code",
   "execution_count": null,
   "metadata": {},
   "outputs": [
    {
     "name": "stdout",
     "output_type": "stream",
     "text": [
      "La letra B es la mayor de todas con una cantidad:5\n"
     ]
    }
   ],
   "source": [
    "#Ejercicio\n",
    "a = 4\n",
    "b = 5\n",
    "c = 3\n",
    "\n",
    "if a > b:\n",
    "    #Instrucciones a ejecutar\n",
    "    if c > a:\n",
    "        print(\"La letra C es la mayor de todas con una cantidad:\" + str(c))\n",
    "    else:\n",
    "        print(\"La letra A es la mayor de todas con una cantidad:\" + str(a)) \n",
    "elif b > c:\n",
    "    print(\"La letra B es la mayor de todas con una cantidad:\" + str(b))\n",
    "else:\n",
    "    print(\"La letra C es la mayor de todas con una cantidad:\" + str(c))\n"
   ]
  },
  {
   "cell_type": "markdown",
   "metadata": {},
   "source": [
    "# Asteroide"
   ]
  },
  {
   "cell_type": "code",
   "execution_count": 4,
   "metadata": {},
   "outputs": [
    {
     "name": "stdout",
     "output_type": "stream",
     "text": [
      "Un asteroide va a pasar por la tierra a la velocidad de: 10\n"
     ]
    }
   ],
   "source": [
    "Velocidad_Asteroide = 49\n",
    "\n",
    "if Velocidad_Asteroide > 25:\n",
    "    print(\"Alerta, se acerca un asteroide a una velocidad muy alta: \" + str(int(Velocidad_Asteroide)) + \"!\" )\n",
    "else:\n",
    "    print(\"Un asteroide va a pasar por la tierra a la velocidad de: \" + str(int(Velocidad_Asteroide)))\n"
   ]
  },
  {
   "cell_type": "code",
   "execution_count": 6,
   "metadata": {},
   "outputs": [
    {
     "name": "stdout",
     "output_type": "stream",
     "text": [
      "Un asteroide pasara por la tierra a la velocidad de: 19\n"
     ]
    }
   ],
   "source": [
    "Asteroide = 19\n",
    "\n",
    "if Asteroide == 20:\n",
    "    print(\"Alerta ciudadanos, será posible ver el rayo de luz del asteroide desde la tierra!\")\n",
    "elif Asteroide > 20:\n",
    "    print(\"Alerta ciudadanos, será posible ver el rayo de luz del asteroide desde la tierra!\")\n",
    "else:\n",
    "    print(\"Un asteroide pasara por la tierra a la velocidad de: \" + str(int(Asteroide)))\n"
   ]
  },
  {
   "cell_type": "markdown",
   "metadata": {},
   "source": [
    "# Ejercicio: Uso de Operadores And y Or"
   ]
  },
  {
   "cell_type": "code",
   "execution_count": 8,
   "metadata": {},
   "outputs": [
    {
     "name": "stdout",
     "output_type": "stream",
     "text": [
      "Se acerca un asteroide peligroso a la Tierra!\n"
     ]
    }
   ],
   "source": [
    "VelocidadAsteroide = 27\n",
    "TamanoAsteroide = 50\n",
    "\n",
    "if VelocidadAsteroide > 25 and TamanoAsteroide > 25:\n",
    "    print(\"Se acerca un asteroide peligroso a la Tierra!\")\n",
    "elif VelocidadAsteroide >=20:\n",
    "    print(\"Alerta ciudadanos, será posible ver el rayo de luz del asteroide desde la tierra!\")\n",
    "elif TamanoAsteroide < 25:\n",
    "    print(\"Mensaje de ejemplo\")\n",
    "else:\n",
    "    print(\"Mensaje de ejemplo\")\n"
   ]
  }
 ],
 "metadata": {
  "interpreter": {
   "hash": "f9b663c64d01b85df3ce1f4da267e5ac58a47d1d1a962220a4571511be4b3802"
  },
  "kernelspec": {
   "display_name": "Python 3.10.2 64-bit",
   "language": "python",
   "name": "python3"
  },
  "language_info": {
   "codemirror_mode": {
    "name": "ipython",
    "version": 3
   },
   "file_extension": ".py",
   "mimetype": "text/x-python",
   "name": "python",
   "nbconvert_exporter": "python",
   "pygments_lexer": "ipython3",
   "version": "3.10.2"
  },
  "orig_nbformat": 4
 },
 "nbformat": 4,
 "nbformat_minor": 2
}
