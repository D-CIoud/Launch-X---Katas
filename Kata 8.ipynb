{
 "cells": [
  {
   "cell_type": "markdown",
   "metadata": {},
   "source": [
    "# Módulo 8 - Kata 8"
   ]
  },
  {
   "cell_type": "code",
   "execution_count": 6,
   "metadata": {},
   "outputs": [
    {
     "name": "stdout",
     "output_type": "stream",
     "text": [
      "El planeta: Marte, tiene 2 lunas.\n",
      "El Planeta: Marte, tiene una circunferencia de: 6752\n"
     ]
    }
   ],
   "source": [
    "# Crear el diccionario para almacenar la información\n",
    "planeta = {\n",
    "    'Nombre': 'Marte',\n",
    "    'Lunas': 2\n",
    "}\n",
    "\n",
    "#Imprimir el nombre del planeta y el no. de sus lunas\n",
    "print('El planeta: ' + planeta.get('Nombre') + ', tiene ' + str(planeta.get('Lunas')) + ' lunas.')\n",
    "\n",
    "#Añadir una nueva clave que contenga un diccionario al diccionario creado en un principio\n",
    "planeta['Circunferencia'] = {\n",
    "    'polar': 6752,\n",
    "    'equatorial': 6792\n",
    "}\n",
    "\n",
    "# Imprimir el nombre del planeta con su circunferencia polar.\n",
    "print('El Planeta: ' + planeta.get('Nombre') + ', tiene una circunferencia de: ' + str(planeta['Circunferencia']['polar']) )"
   ]
  },
  {
   "cell_type": "code",
   "execution_count": 14,
   "metadata": {},
   "outputs": [
    {
     "name": "stdout",
     "output_type": "stream",
     "text": [
      "El total de lunas es: 214 y el promedio es un total de: 17.833333333333332\n"
     ]
    }
   ],
   "source": [
    "#Ejercicio 2: Programación dinámica con diccionarios\n",
    "\n",
    "# Planets and moons\n",
    "planet_moons = {\n",
    "    'mercury': 0,\n",
    "    'venus': 0,\n",
    "    'earth': 1,\n",
    "    'mars': 2,\n",
    "    'jupiter': 79,\n",
    "    'saturn': 82,\n",
    "    'uranus': 27,\n",
    "    'neptune': 14,\n",
    "    'pluto': 5,\n",
    "    'haumea': 2,\n",
    "    'makemake': 1,\n",
    "    'eris': 1\n",
    "}\n",
    "\n",
    "Moons = planet_moons.values()\n",
    "Planets = len(planet_moons.keys())\n",
    "\n",
    "TotalDeLunas = 0\n",
    "\n",
    "#Obtener el valor total sumando todas las lunas de los planetas\n",
    "for luna in planet_moons.values():\n",
    "    TotalDeLunas = TotalDeLunas + luna\n",
    "\n",
    "#Obtener el promedio\n",
    "Promedio = TotalDeLunas/Planets\n",
    "\n",
    "# print(TotalDeLunas,Planets)\n",
    "print('El total de lunas es: ' + str(TotalDeLunas) + ' y el promedio es un total de: ' + str(Promedio))\n"
   ]
  }
 ],
 "metadata": {
  "interpreter": {
   "hash": "f9b663c64d01b85df3ce1f4da267e5ac58a47d1d1a962220a4571511be4b3802"
  },
  "kernelspec": {
   "display_name": "Python 3.10.2 64-bit",
   "language": "python",
   "name": "python3"
  },
  "language_info": {
   "codemirror_mode": {
    "name": "ipython",
    "version": 3
   },
   "file_extension": ".py",
   "mimetype": "text/x-python",
   "name": "python",
   "nbconvert_exporter": "python",
   "pygments_lexer": "ipython3",
   "version": "3.10.2"
  },
  "orig_nbformat": 4
 },
 "nbformat": 4,
 "nbformat_minor": 2
}
