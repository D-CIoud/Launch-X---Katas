{
 "cells": [
  {
   "cell_type": "markdown",
   "metadata": {},
   "source": [
    "# Módulo 6 - Kata 6"
   ]
  },
  {
   "cell_type": "code",
   "execution_count": 27,
   "metadata": {},
   "outputs": [
    {
     "name": "stdout",
     "output_type": "stream",
     "text": [
      "El total de planetas es: 8\n",
      "Se añade Plutón a la lista: ['Mercurio', 'Venus', 'Tierra', 'Marte', 'Júpiter', 'Saturno', 'Urano', 'Neptuno', 'Plutón']\n",
      "El Ultimo planeta de la lista es: Plutón\n"
     ]
    }
   ],
   "source": [
    "#Ejercicio 1 - Crear y usar listas de Python\n",
    "\n",
    "#Crear la lista\n",
    "Planets = [\"Mercurio\", \"Venus\", \"Tierra\", \"Marte\", \"Júpiter\", \"Saturno\", \"Urano\", \"Neptuno\"]\n",
    "print(\"El total de planetas es: \" + str(len(Planets)))\n",
    "\n",
    "#Añadir pluton a la lista\n",
    "Planets.append(\"Plutón\")\n",
    "print(\"Se añade Plutón a la lista: \" + str(Planets))\n",
    "\n",
    "#Mostrar Ultimo elemento\n",
    "print(\"El Ultimo planeta de la lista es: \" + Planets[-1])\n"
   ]
  },
  {
   "cell_type": "code",
   "execution_count": 26,
   "metadata": {},
   "outputs": [
    {
     "name": "stdout",
     "output_type": "stream",
     "text": [
      "Planeta introducido por el usuario: Earth\n",
      "El no. del planeta introducido en la lista es: 2\n",
      "Los planetas más cercanos al sol en base al planeta del usuario son: ['Mercury', 'Venus']\n",
      "Los planetas más alejados al sol en base al planeta del usuario son: ['Mars', 'Jupiter', 'Saturn', 'Neptune']\n"
     ]
    }
   ],
   "source": [
    "#Ejercicio 2: Trabajando con datos de una lista\n",
    "\n",
    "# Lista de planetas\n",
    "planets = ['Mercury', 'Venus', 'Earth', 'Mars', 'Jupiter', 'Saturn', 'Neptune']\n",
    "\n",
    "#Solicitamos el planeta al usuario\n",
    "UNombrePlaneta = input(\"Ingresa el nombre de un planeta: (en inglés y comenzando por mayuscula)\")\n",
    "#print(UNombrePlaneta) #Validar como se esta recibiendo la entrada del usuario\n",
    "\n",
    "print(\"Planeta introducido por el usuario: \" + UNombrePlaneta)\n",
    "\n",
    "#Encuentra el planeta en la lista\n",
    "NoPlanetaEnLista = planets.index(UNombrePlaneta) \n",
    "print(\"El no. del planeta introducido en la lista es: \" + str(NoPlanetaEnLista))\n",
    "\n",
    "# Muestra los planetas más cercanos al sol\n",
    "PlanetasCercanosAlU = planets[0:NoPlanetaEnLista]\n",
    "print(\"Los planetas más cercanos al sol en base al planeta del usuario son: \" + str(PlanetasCercanosAlU))\n",
    "\n",
    "#Mostrar planetas más alejados del sol que el que el usuario ingresó\n",
    "PlanetasCercanosAlSol = planets[NoPlanetaEnLista+1:]\n",
    "print(\"Los planetas más alejados al sol en base al planeta del usuario son: \" + str(PlanetasCercanosAlSol))"
   ]
  }
 ],
 "metadata": {
  "interpreter": {
   "hash": "f9b663c64d01b85df3ce1f4da267e5ac58a47d1d1a962220a4571511be4b3802"
  },
  "kernelspec": {
   "display_name": "Python 3.10.2 64-bit",
   "language": "python",
   "name": "python3"
  },
  "language_info": {
   "codemirror_mode": {
    "name": "ipython",
    "version": 3
   },
   "file_extension": ".py",
   "mimetype": "text/x-python",
   "name": "python",
   "nbconvert_exporter": "python",
   "pygments_lexer": "ipython3",
   "version": "3.10.2"
  },
  "orig_nbformat": 4
 },
 "nbformat": 4,
 "nbformat_minor": 2
}
