{
 "cells": [
  {
   "cell_type": "markdown",
   "metadata": {},
   "source": [
    "# Módulo 4 Kata"
   ]
  },
  {
   "cell_type": "markdown",
   "metadata": {},
   "source": [
    "Ejercicio 1"
   ]
  },
  {
   "cell_type": "code",
   "execution_count": 45,
   "metadata": {},
   "outputs": [
    {
     "name": "stdout",
     "output_type": "stream",
     "text": [
      "['Interesting facts about the Moon', \" The Moon is Earth's only satellite\", ' There are several interesting facts about the Moon and how it affects life here on Earth', ' \\nOn average, the Moon moves 4cm away from the Earth every year', ' This yearly drift is not significant enough to cause immediate effects on Earth', ' The highest daylight temperature of the Moon is 127 C', '']\n"
     ]
    }
   ],
   "source": [
    "#Dividir el texto\n",
    "text = \"\"\"Interesting facts about the Moon. The Moon is Earth's only satellite. There are several interesting facts about the Moon and how it affects life here on Earth. \n",
    "On average, the Moon moves 4cm away from the Earth every year. This yearly drift is not significant enough to cause immediate effects on Earth. The highest daylight temperature of the Moon is 127 C.\"\"\"\n",
    "\n",
    "TextoDivido = text.split('.') #Dividimos el texto\n",
    "print(TextoDivido)"
   ]
  },
  {
   "cell_type": "code",
   "execution_count": 46,
   "metadata": {},
   "outputs": [
    {
     "name": "stdout",
     "output_type": "stream",
     "text": [
      "\n",
      "On average, the Moon moves 4cm away from the Earth every year\n",
      "The highest daylight temperature of the Moon is 127 C.\n"
     ]
    }
   ],
   "source": [
    "#Encontrar palabras especificas en los fragmentos del texto\n",
    "text = \"\"\"Interesting facts about the Moon. The Moon is Earth's only satellite. There are several interesting facts about the Moon and how it affects life here on Earth. \n",
    "On average, the Moon moves 4cm away from the Earth every year. This yearly drift is not significant enough to cause immediate effects on Earth. The highest daylight temperature of the Moon is 127 C.\"\"\"\n",
    "\n",
    "TextoDivido = text.split('. ') #Dividimos el texto\n",
    "\n",
    "PalabrasABuscar = [\"average\",\"temperature\",\"distance\"]\n",
    "\n",
    "#Coincidencias = []\n",
    "\n",
    "for Texto in TextoDivido: #Ciclo for para imprimir un item si contiene alguna palabra del array(Palabras a buscar)\n",
    "    for Palabra in PalabrasABuscar:\n",
    "        if Palabra in Texto.lower():\n",
    "            print(Texto)\n",
    "            #Coincidencias.append(Texto)\n",
    "\n",
    "#Imprimir arreglo con los match que se encontraron en el ciclo\n",
    "#Coincidencias"
   ]
  },
  {
   "cell_type": "code",
   "execution_count": 47,
   "metadata": {},
   "outputs": [
    {
     "name": "stdout",
     "output_type": "stream",
     "text": [
      "\n",
      "On average, the Moon moves 4cm away from the Earth every year\n",
      "The highest daylight temperature of the Moon is 127 Celcius.\n"
     ]
    }
   ],
   "source": [
    "#Ciclo para cambiar C a Celsius\n",
    "text = \"\"\"Interesting facts about the Moon. The Moon is Earth's only satellite. There are several interesting facts about the Moon and how it affects life here on Earth. \n",
    "On average, the Moon moves 4cm away from the Earth every year. This yearly drift is not significant enough to cause immediate effects on Earth. The highest daylight temperature of the Moon is 127 C.\"\"\"\n",
    "\n",
    "TextoDivido = text.split('. ') #Dividimos el texto\n",
    "\n",
    "PalabrasABuscar = [\"average\",\"temperature\",\"distance\"]\n",
    "\n",
    "for Texto in TextoDivido: #Ciclo for para imprimir un item si contiene alguna palabra del array(Palabras a buscar)\n",
    "    for Palabra in PalabrasABuscar:\n",
    "        if Palabra in Texto.lower():\n",
    "            print(Texto.replace('C','Celcius')) #Hacemos uso de Replace para reemplazar un caracter/texto por otro\n",
    "            "
   ]
  },
  {
   "cell_type": "markdown",
   "metadata": {},
   "source": [
    "Ejercicio 2"
   ]
  },
  {
   "cell_type": "code",
   "execution_count": 54,
   "metadata": {},
   "outputs": [
    {
     "data": {
      "text/plain": [
       "'Datos De La Gravedad En La Tierra Y En La Luna'"
      ]
     },
     "execution_count": 54,
     "metadata": {},
     "output_type": "execute_result"
    }
   ],
   "source": [
    "#Generar un titulo\n",
    "# Datos con los que se va a trabajar\n",
    "name = \"Luna\"\n",
    "gravity = 0.00162 # in kms\n",
    "planet = \"Tierra\"\n",
    "\n",
    "NombreTitulo = \"datos de la gravedad en la tierra y en la luna\"\n",
    "\n",
    "NombreTitulo.title()"
   ]
  },
  {
   "cell_type": "code",
   "execution_count": 75,
   "metadata": {},
   "outputs": [
    {
     "name": "stdout",
     "output_type": "stream",
     "text": [
      " ------------------------------\n",
      " Nombre: Luna\n",
      " Gravedad: 1.6199999999999999\n",
      " Planeta: Tierra\n"
     ]
    }
   ],
   "source": [
    "# Generar Texto multilinea\n",
    "# Datos con los que se va a trabajar\n",
    "name = \"Luna\"\n",
    "gravity = 0.00162 # in kms\n",
    "planet = \"Tierra\"\n",
    "\n",
    "TextoMultilinea = \" ------------------------------\\n Nombre: {0}\\n Gravedad: {1}\\n Planeta: {2}\".format(name,(gravity*1000),planet)\n",
    "\n",
    "print(TextoMultilinea)"
   ]
  },
  {
   "cell_type": "code",
   "execution_count": 84,
   "metadata": {},
   "outputs": [
    {
     "name": "stdout",
     "output_type": "stream",
     "text": [
      " Datos De La Gravedad En La Tierra Y En La Luna \n",
      " --------------------------------------\n",
      " Nombre: Luna\n",
      " Gravedad: 1.6199999999999999\n",
      " Planeta: Tierra\n"
     ]
    }
   ],
   "source": [
    "#Unir el titulo y los hechos con ambas variables\n",
    "# Datos con los que se va a trabajar\n",
    "name = \"Luna\"\n",
    "gravity = 0.00162 # in kms\n",
    "planet = \"Tierra\"\n",
    "\n",
    "NombreTitulo = \"datos de la gravedad en la tierra y en la luna\"\n",
    "\n",
    "TextoMultilinea = \" {0} \\n --------------------------------------\\n Nombre: {1}\\n Gravedad: {2}\\n Planeta: {3}\".format(NombreTitulo.title(),name,(gravity*1000),planet)\n",
    "\n",
    "Plantilla = TextoMultilinea\n",
    "\n",
    "print(Plantilla)\n"
   ]
  },
  {
   "cell_type": "code",
   "execution_count": 87,
   "metadata": {},
   "outputs": [
    {
     "name": "stdout",
     "output_type": "stream",
     "text": [
      " Datos De La Gravedad En La Tierra Y En La Luna \n",
      " --------------------------------------\n",
      " Nombre: Luna\n",
      " Gravedad: 1.6199999999999999\n",
      " Planeta: Tierra \n",
      "Datos de la Gravedad sobre: Ganímedes\n",
      "-------------------------------------------------------------------------------\n",
      "Nombre del planeta: Marte \n",
      "Gravedad en Ganímedes: 1.4300000000000002 m/s2\n",
      "\n"
     ]
    }
   ],
   "source": [
    "# Usar la plantilla para imprimir otros datos\n",
    "# Datos con los que se va a trabajar\n",
    "name = \"Luna\"\n",
    "gravity =  0.00162 # in kms\n",
    "planet = \"Tierra\"\n",
    "\n",
    "# Otros Datos\n",
    "planeta = 'Marte '\n",
    "gravedad  = 0.00143\n",
    "nombre = 'Ganímedes'\n",
    "\n",
    "NombreTitulo = \"datos de la gravedad en la tierra y en la luna\"\n",
    "\n",
    "TextoMultilinea = \" {0} \\n --------------------------------------\\n Nombre: {1}\\n Gravedad: {2}\\n Planeta: {3}\".format(NombreTitulo.title(),name,(gravity*1000),planet)\n",
    "\n",
    "Plantilla = TextoMultilinea\n",
    "\n",
    "NuevaPlantilla = \"\"\"\n",
    "Datos de la Gravedad sobre: {nombre}\n",
    "-------------------------------------------------------------------------------\n",
    "Nombre del planeta: {planeta}\n",
    "Gravedad en {nombre}: {gravedad} m/s2\n",
    "\"\"\"\n",
    "\n",
    "print(Plantilla,NuevaPlantilla.format(nombre = nombre, planeta = planeta, gravedad = (gravedad*1000)))\n"
   ]
  }
 ],
 "metadata": {
  "interpreter": {
   "hash": "f9b663c64d01b85df3ce1f4da267e5ac58a47d1d1a962220a4571511be4b3802"
  },
  "kernelspec": {
   "display_name": "Python 3.10.2 64-bit",
   "language": "python",
   "name": "python3"
  },
  "language_info": {
   "codemirror_mode": {
    "name": "ipython",
    "version": 3
   },
   "file_extension": ".py",
   "mimetype": "text/x-python",
   "name": "python",
   "nbconvert_exporter": "python",
   "pygments_lexer": "ipython3",
   "version": "3.10.2"
  },
  "orig_nbformat": 4
 },
 "nbformat": 4,
 "nbformat_minor": 2
}
