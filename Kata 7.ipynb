{
 "cells": [
  {
   "cell_type": "markdown",
   "metadata": {},
   "source": [
    "# Módulo 7 - Kata 7\n",
    "\n"
   ]
  },
  {
   "cell_type": "code",
   "execution_count": 16,
   "metadata": {},
   "outputs": [
    {
     "name": "stdout",
     "output_type": "stream",
     "text": [
      "Marte\n",
      "Tierra\n",
      "👆 Estos son los planetas que ingreso el usuario :)\n"
     ]
    }
   ],
   "source": [
    "New_planet = ''\n",
    "\n",
    "Planets = []\n",
    "\n",
    "while New_planet.lower() != 'done':\n",
    "    if New_planet: #Validar si el usuario escribio un valor\n",
    "        Planets.append(New_planet)\n",
    "    New_planet = input(\"Por favor escribe un planeta: \")\n",
    "\n",
    "#Validar los datos introducidos cuando el usuario teclee done al imprimirlos\n",
    "# print(Planets)\n",
    "\n",
    "#Ejercio 2 imprimir la lista de planetas a traves de un ciclo for\n",
    "for planet in Planets:\n",
    "    print(planet)\n",
    "print(\"👆 Estos son los planetas que ingreso el usuario :)\")\n"
   ]
  },
  {
   "cell_type": "code",
   "execution_count": null,
   "metadata": {},
   "outputs": [],
   "source": []
  }
 ],
 "metadata": {
  "interpreter": {
   "hash": "f9b663c64d01b85df3ce1f4da267e5ac58a47d1d1a962220a4571511be4b3802"
  },
  "kernelspec": {
   "display_name": "Python 3.10.2 64-bit",
   "language": "python",
   "name": "python3"
  },
  "language_info": {
   "codemirror_mode": {
    "name": "ipython",
    "version": 3
   },
   "file_extension": ".py",
   "mimetype": "text/x-python",
   "name": "python",
   "nbconvert_exporter": "python",
   "pygments_lexer": "ipython3",
   "version": "3.10.2"
  },
  "orig_nbformat": 4
 },
 "nbformat": 4,
 "nbformat_minor": 2
}
