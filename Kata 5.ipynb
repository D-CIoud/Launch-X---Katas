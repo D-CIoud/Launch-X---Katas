{
 "cells": [
  {
   "cell_type": "markdown",
   "metadata": {},
   "source": [
    "# Módulo 5 - Kata 5"
   ]
  },
  {
   "cell_type": "code",
   "execution_count": 1,
   "metadata": {},
   "outputs": [
    {
     "name": "stdout",
     "output_type": "stream",
     "text": [
      "La Distancia es de: 628949330.0 Km's y en Millas: 390577533.93\n"
     ]
    }
   ],
   "source": [
    "#Ejercicio 1\n",
    "\n",
    "Planeta1 = 149597870  #input(\"Ingresa la distancia del 1er planeta: \")\n",
    "Planeta2 = 778547200 #input(\"Ingresa la distancia del 2do planeta: \")\n",
    "\n",
    "Distancia = float(Planeta2) - float(Planeta1)\n",
    "\n",
    "Millas = Distancia*0.621\n",
    "\n",
    "print(\"La Distancia es de: \" + str(Distancia) + \" Km's y en Millas: \" + str(Millas))"
   ]
  },
  {
   "cell_type": "code",
   "execution_count": 27,
   "metadata": {},
   "outputs": [
    {
     "name": "stdout",
     "output_type": "stream",
     "text": [
      "La distancia en KM es: 50300000\n",
      "Las Millas son: 31236300.0\n",
      "KM del planeta 1: 57900000\n",
      "KM del planeta 2: 108200000\n"
     ]
    }
   ],
   "source": [
    "#Ejercicio 2\n",
    "\n",
    "Planeta1 = int(input(\"Ingresa la distancia del 1er planeta: \"))\n",
    "Planeta2 = int(input(\"Ingresa la distancia del 2do planeta: \"))\n",
    "\n",
    "CalculoKm = Planeta1 - Planeta2\n",
    "print(\"La distancia en KM es: \" + str(abs(CalculoKm)))\n",
    "\n",
    "ConversionMillas = CalculoKm * 0.621\n",
    "print(\"Las Millas son: \" + str(abs(ConversionMillas)))\n",
    "\n",
    "print()\n",
    "\n",
    "print(\"KM del planeta 1: \" + str(Planeta1))\n",
    "print(\"KM del planeta 2: \" + str(Planeta2))\n",
    "\n"
   ]
  }
 ],
 "metadata": {
  "interpreter": {
   "hash": "f9b663c64d01b85df3ce1f4da267e5ac58a47d1d1a962220a4571511be4b3802"
  },
  "kernelspec": {
   "display_name": "Python 3.10.2 64-bit",
   "language": "python",
   "name": "python3"
  },
  "language_info": {
   "codemirror_mode": {
    "name": "ipython",
    "version": 3
   },
   "file_extension": ".py",
   "mimetype": "text/x-python",
   "name": "python",
   "nbconvert_exporter": "python",
   "pygments_lexer": "ipython3",
   "version": "3.10.2"
  },
  "orig_nbformat": 4
 },
 "nbformat": 4,
 "nbformat_minor": 2
}
